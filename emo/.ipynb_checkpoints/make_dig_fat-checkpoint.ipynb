{
 "cells": [
  {
   "cell_type": "code",
   "execution_count": 1,
   "metadata": {},
   "outputs": [
    {
     "name": "stderr",
     "output_type": "stream",
     "text": [
      "/usr/lib/python3.5/importlib/_bootstrap.py:222: RuntimeWarning: numpy.dtype size changed, may indicate binary incompatibility. Expected 96, got 88\n",
      "  return f(*args, **kwds)\n",
      "/usr/lib/python3.5/importlib/_bootstrap.py:222: RuntimeWarning: numpy.dtype size changed, may indicate binary incompatibility. Expected 96, got 88\n",
      "  return f(*args, **kwds)\n"
     ]
    }
   ],
   "source": [
    "import numpy as np\n",
    "import random\n",
    "import os\n",
    "import scipy.io.wavfile as wav\n",
    "from python_speech_features import mfcc\n",
    "from python_speech_features import logfbank\n",
    "import pickle"
   ]
  },
  {
   "cell_type": "code",
   "execution_count": 5,
   "metadata": {},
   "outputs": [],
   "source": [
    "\n",
    "c=os.listdir('/home/mayank/Downloads/01')\n",
    "blank=np.zeros([180,13])\n",
    "blank2=np.zeros([300,13])"
   ]
  },
  {
   "cell_type": "code",
   "execution_count": 6,
   "metadata": {},
   "outputs": [
    {
     "data": {
      "text/plain": [
       "['1_jackson_29.wav',\n",
       " '1_nicolas_36.wav',\n",
       " '1_theo_35.wav',\n",
       " '0_nicolas_21.wav',\n",
       " '1_jackson_4.wav',\n",
       " '0_theo_33.wav',\n",
       " '1_jackson_30.wav',\n",
       " '0_nicolas_32.wav',\n",
       " '1_nicolas_38.wav',\n",
       " '1_theo_13.wav',\n",
       " '1_theo_12.wav',\n",
       " '1_nicolas_45.wav',\n",
       " '1_theo_5.wav',\n",
       " '0_jackson_17.wav',\n",
       " '0_theo_22.wav',\n",
       " '0_jackson_31.wav',\n",
       " '1_theo_19.wav',\n",
       " '0_jackson_19.wav',\n",
       " '0_jackson_29.wav',\n",
       " '0_jackson_35.wav',\n",
       " '1_jackson_47.wav',\n",
       " '1_theo_22.wav',\n",
       " '0_nicolas_47.wav',\n",
       " '0_jackson_41.wav',\n",
       " '1_jackson_44.wav',\n",
       " '0_nicolas_25.wav',\n",
       " '1_theo_32.wav',\n",
       " '1_theo_34.wav',\n",
       " '1_jackson_11.wav',\n",
       " '1_jackson_1.wav',\n",
       " '0_nicolas_4.wav',\n",
       " '1_jackson_19.wav',\n",
       " '1_jackson_48.wav',\n",
       " '0_theo_31.wav',\n",
       " '1_theo_4.wav',\n",
       " '1_theo_33.wav',\n",
       " '0_nicolas_12.wav',\n",
       " '1_nicolas_32.wav',\n",
       " '1_jackson_27.wav',\n",
       " '0_nicolas_23.wav',\n",
       " '1_theo_41.wav',\n",
       " '0_jackson_30.wav',\n",
       " '1_nicolas_34.wav',\n",
       " '0_jackson_46.wav',\n",
       " '0_theo_39.wav',\n",
       " '1_theo_42.wav',\n",
       " '1_theo_40.wav',\n",
       " '1_theo_44.wav',\n",
       " '0_theo_11.wav',\n",
       " '0_jackson_49.wav',\n",
       " '1_nicolas_17.wav',\n",
       " '1_jackson_49.wav',\n",
       " '0_theo_47.wav',\n",
       " '1_nicolas_33.wav',\n",
       " '0_jackson_44.wav',\n",
       " '1_nicolas_5.wav',\n",
       " '0_theo_17.wav',\n",
       " '1_nicolas_19.wav',\n",
       " '0_jackson_25.wav',\n",
       " '1_jackson_14.wav',\n",
       " '0_theo_44.wav',\n",
       " '1_nicolas_42.wav',\n",
       " '0_nicolas_6.wav',\n",
       " '0_jackson_26.wav',\n",
       " '0_nicolas_34.wav',\n",
       " '1_theo_6.wav',\n",
       " '1_jackson_9.wav',\n",
       " '1_jackson_39.wav',\n",
       " '1_theo_9.wav',\n",
       " '0_nicolas_31.wav',\n",
       " '1_nicolas_18.wav',\n",
       " '0_jackson_48.wav',\n",
       " '1_jackson_41.wav',\n",
       " '0_theo_20.wav',\n",
       " '0_theo_25.wav',\n",
       " '0_nicolas_28.wav',\n",
       " '1_theo_14.wav',\n",
       " '1_nicolas_31.wav',\n",
       " '0_jackson_24.wav',\n",
       " '1_jackson_24.wav',\n",
       " '0_nicolas_36.wav',\n",
       " '0_theo_19.wav',\n",
       " '0_jackson_47.wav',\n",
       " '0_theo_24.wav',\n",
       " '1_jackson_34.wav',\n",
       " '0_nicolas_16.wav',\n",
       " '0_jackson_22.wav',\n",
       " '0_nicolas_44.wav',\n",
       " '0_theo_2.wav',\n",
       " '1_nicolas_27.wav',\n",
       " '1_nicolas_6.wav',\n",
       " '1_nicolas_1.wav',\n",
       " '1_theo_28.wav',\n",
       " '1_theo_43.wav',\n",
       " '0_jackson_40.wav',\n",
       " '0_nicolas_7.wav',\n",
       " '1_nicolas_0.wav',\n",
       " '1_nicolas_9.wav',\n",
       " '1_nicolas_11.wav',\n",
       " '1_theo_26.wav',\n",
       " '0_jackson_18.wav',\n",
       " '1_jackson_10.wav',\n",
       " '0_nicolas_38.wav',\n",
       " '1_jackson_38.wav',\n",
       " '1_nicolas_28.wav',\n",
       " '0_jackson_10.wav',\n",
       " '1_jackson_40.wav',\n",
       " '0_nicolas_24.wav',\n",
       " '0_nicolas_17.wav',\n",
       " '1_theo_20.wav',\n",
       " '1_nicolas_39.wav',\n",
       " '1_nicolas_22.wav',\n",
       " '0_nicolas_9.wav',\n",
       " '1_theo_48.wav',\n",
       " '0_theo_48.wav',\n",
       " '1_jackson_33.wav',\n",
       " '0_nicolas_40.wav',\n",
       " '1_nicolas_23.wav',\n",
       " '1_jackson_45.wav',\n",
       " '0_jackson_5.wav',\n",
       " '1_jackson_42.wav',\n",
       " '0_theo_36.wav',\n",
       " '0_jackson_34.wav',\n",
       " '0_jackson_11.wav',\n",
       " '0_jackson_28.wav',\n",
       " '1_theo_49.wav',\n",
       " '1_jackson_26.wav',\n",
       " '0_theo_40.wav',\n",
       " '1_jackson_2.wav',\n",
       " '0_jackson_15.wav',\n",
       " '0_theo_45.wav',\n",
       " '0_theo_13.wav',\n",
       " '1_nicolas_49.wav',\n",
       " '1_jackson_20.wav',\n",
       " '1_nicolas_26.wav',\n",
       " '0_nicolas_13.wav',\n",
       " '0_jackson_38.wav',\n",
       " '0_theo_12.wav',\n",
       " '0_jackson_12.wav',\n",
       " '0_nicolas_48.wav',\n",
       " '0_theo_4.wav',\n",
       " '0_theo_41.wav',\n",
       " '1_jackson_17.wav',\n",
       " '0_nicolas_37.wav',\n",
       " '1_nicolas_13.wav',\n",
       " '1_theo_18.wav',\n",
       " '1_theo_7.wav',\n",
       " '1_jackson_25.wav',\n",
       " '0_theo_49.wav',\n",
       " '0_nicolas_29.wav',\n",
       " '0_theo_34.wav',\n",
       " '0_theo_35.wav',\n",
       " '1_jackson_36.wav',\n",
       " '0_theo_27.wav',\n",
       " '1_jackson_16.wav',\n",
       " '0_theo_10.wav',\n",
       " '1_nicolas_15.wav',\n",
       " '0_jackson_13.wav',\n",
       " '0_nicolas_19.wav',\n",
       " '1_theo_47.wav',\n",
       " '0_jackson_21.wav',\n",
       " '0_nicolas_26.wav',\n",
       " '0_nicolas_8.wav',\n",
       " '1_jackson_5.wav',\n",
       " '1_nicolas_3.wav',\n",
       " '0_theo_42.wav',\n",
       " '1_theo_1.wav',\n",
       " '1_jackson_46.wav',\n",
       " '1_nicolas_48.wav',\n",
       " '1_theo_39.wav',\n",
       " '1_nicolas_25.wav',\n",
       " '1_jackson_0.wav',\n",
       " '1_nicolas_4.wav',\n",
       " '0_jackson_8.wav',\n",
       " '1_nicolas_47.wav',\n",
       " '1_jackson_31.wav',\n",
       " '0_nicolas_39.wav',\n",
       " '0_nicolas_22.wav',\n",
       " '0_theo_28.wav',\n",
       " '0_jackson_45.wav',\n",
       " '0_jackson_33.wav',\n",
       " '0_jackson_0.wav',\n",
       " '1_nicolas_16.wav',\n",
       " '1_nicolas_41.wav',\n",
       " '1_theo_10.wav',\n",
       " '1_jackson_6.wav',\n",
       " '0_theo_14.wav',\n",
       " '0_jackson_14.wav',\n",
       " '0_nicolas_3.wav',\n",
       " '1_nicolas_8.wav',\n",
       " '1_theo_2.wav',\n",
       " '1_theo_29.wav',\n",
       " '0_theo_5.wav',\n",
       " '0_jackson_42.wav',\n",
       " '1_theo_24.wav',\n",
       " '1_jackson_18.wav',\n",
       " '1_theo_30.wav',\n",
       " '1_nicolas_20.wav',\n",
       " '0_theo_8.wav',\n",
       " '0_nicolas_45.wav',\n",
       " '0_nicolas_33.wav',\n",
       " '1_theo_36.wav',\n",
       " '1_nicolas_2.wav',\n",
       " '0_jackson_20.wav',\n",
       " '1_jackson_12.wav',\n",
       " '1_nicolas_46.wav',\n",
       " '1_jackson_43.wav',\n",
       " '0_nicolas_46.wav',\n",
       " '1_nicolas_30.wav',\n",
       " '0_theo_16.wav',\n",
       " '0_nicolas_2.wav',\n",
       " '0_nicolas_41.wav',\n",
       " '1_nicolas_43.wav',\n",
       " '0_theo_15.wav',\n",
       " '0_theo_21.wav',\n",
       " '1_nicolas_44.wav',\n",
       " '1_theo_46.wav',\n",
       " '1_theo_45.wav',\n",
       " '1_theo_23.wav',\n",
       " '0_theo_30.wav',\n",
       " '0_jackson_9.wav',\n",
       " '1_nicolas_24.wav',\n",
       " '1_theo_27.wav',\n",
       " '1_nicolas_37.wav',\n",
       " '0_nicolas_42.wav',\n",
       " '0_theo_3.wav',\n",
       " '1_theo_25.wav',\n",
       " '0_theo_0.wav',\n",
       " '1_jackson_22.wav',\n",
       " '0_theo_46.wav',\n",
       " '0_theo_37.wav',\n",
       " '1_jackson_35.wav',\n",
       " '0_theo_38.wav',\n",
       " '0_jackson_23.wav',\n",
       " '1_jackson_23.wav',\n",
       " '1_theo_16.wav',\n",
       " '1_nicolas_12.wav',\n",
       " '1_jackson_28.wav',\n",
       " '0_jackson_32.wav',\n",
       " '0_jackson_6.wav',\n",
       " '0_theo_6.wav',\n",
       " '1_jackson_13.wav',\n",
       " '0_jackson_39.wav',\n",
       " '1_theo_11.wav',\n",
       " '1_nicolas_14.wav',\n",
       " '1_theo_37.wav',\n",
       " '0_nicolas_1.wav',\n",
       " '1_jackson_8.wav',\n",
       " '0_nicolas_15.wav',\n",
       " '0_nicolas_5.wav',\n",
       " '0_theo_29.wav',\n",
       " '0_theo_43.wav',\n",
       " '0_theo_9.wav',\n",
       " '0_nicolas_35.wav',\n",
       " '1_theo_17.wav',\n",
       " '1_theo_31.wav',\n",
       " '1_nicolas_29.wav',\n",
       " '0_nicolas_18.wav',\n",
       " '0_nicolas_11.wav',\n",
       " '0_theo_7.wav',\n",
       " '1_theo_21.wav',\n",
       " '0_theo_26.wav',\n",
       " '0_jackson_3.wav',\n",
       " '0_theo_18.wav',\n",
       " '1_jackson_32.wav',\n",
       " '0_jackson_37.wav',\n",
       " '1_nicolas_7.wav',\n",
       " '1_nicolas_35.wav',\n",
       " '1_nicolas_21.wav',\n",
       " '1_jackson_15.wav',\n",
       " '0_nicolas_0.wav',\n",
       " '1_jackson_7.wav',\n",
       " '1_theo_15.wav',\n",
       " '0_jackson_4.wav',\n",
       " '1_theo_3.wav',\n",
       " '0_jackson_1.wav',\n",
       " '1_theo_8.wav',\n",
       " '0_theo_32.wav',\n",
       " '0_nicolas_20.wav',\n",
       " '0_jackson_2.wav',\n",
       " '1_nicolas_10.wav',\n",
       " '1_jackson_3.wav',\n",
       " '1_nicolas_40.wav',\n",
       " '1_jackson_21.wav',\n",
       " '0_jackson_36.wav',\n",
       " '0_theo_1.wav',\n",
       " '0_jackson_16.wav',\n",
       " '0_nicolas_27.wav',\n",
       " '0_nicolas_49.wav',\n",
       " '0_nicolas_43.wav',\n",
       " '0_theo_23.wav',\n",
       " '0_jackson_27.wav',\n",
       " '0_jackson_7.wav',\n",
       " '0_nicolas_10.wav',\n",
       " '1_theo_38.wav',\n",
       " '0_jackson_43.wav',\n",
       " '0_nicolas_14.wav',\n",
       " '1_jackson_37.wav',\n",
       " '1_theo_0.wav',\n",
       " '0_nicolas_30.wav']"
      ]
     },
     "execution_count": 6,
     "metadata": {},
     "output_type": "execute_result"
    }
   ],
   "source": [
    "c"
   ]
  },
  {
   "cell_type": "code",
   "execution_count": 7,
   "metadata": {},
   "outputs": [],
   "source": [
    "(inrate,insig) = wav.read(os.path.join('/home/mayank/Downloads/01', c[0]))"
   ]
  },
  {
   "cell_type": "code",
   "execution_count": 8,
   "metadata": {},
   "outputs": [
    {
     "data": {
      "text/plain": [
       "array([-362, -407, -452, ...,  328,  326,  300], dtype=int16)"
      ]
     },
     "execution_count": 8,
     "metadata": {},
     "output_type": "execute_result"
    }
   ],
   "source": [
    "insig"
   ]
  },
  {
   "cell_type": "code",
   "execution_count": 3,
   "metadata": {},
   "outputs": [],
   "source": [
    "def make6():\n",
    "    inr=random.randint(0,len(c)-1)\n",
    "    infn=c[inr]\n",
    "    (inrate,insig) = wav.read(os.path.join('/home/mayank/Downloads/01', infn))\n",
    "    inmfccF = mfcc(insig,inrate)\n",
    "    data=list(inmfccF)\n",
    "    label=[int(infn.split(\"_\")[0])+1]\n",
    "    _=0\n",
    "    while _<5:\n",
    "        r=random.randint(0,len(c)-1)\n",
    "        fn=c[r]\n",
    "        (rate,sig) = wav.read(os.path.join('/home/mayank/Downloads/free-spoken-digit-dataset-master/recordings', fn))\n",
    "        mfccF = mfcc(sig,rate)\n",
    "        if mfccF.shape[0]<150:\n",
    "            data=data+list(mfccF)\n",
    "            label=label+[int(fn.split(\"_\")[0])+1]\n",
    "            _=_+1\n",
    "    return np.array(data),label"
   ]
  },
  {
   "cell_type": "code",
   "execution_count": 4,
   "metadata": {},
   "outputs": [],
   "source": [
    "def make3():\n",
    "    inr=random.randint(0,len(c)-1)\n",
    "    infn=c[inr]\n",
    "    (inrate,insig) = wav.read(os.path.join('/home/mayank/Downloads/free-spoken-digit-dataset-master/recordings', infn))\n",
    "    inmfccF = mfcc(insig,inrate)\n",
    "    data=list(inmfccF)\n",
    "    label=[int(infn.split(\"_\")[0])+1]\n",
    "    _=0\n",
    "    while _<2:\n",
    "        r=random.randint(0,len(c)-1)\n",
    "        fn=c[r]\n",
    "        (rate,sig) = wav.read(os.path.join('/home/mayank/Downloads/free-spoken-digit-dataset-master/recordings', fn))\n",
    "        mfccF = mfcc(sig,rate)\n",
    "        if mfccF.shape[0]<150:\n",
    "            data=data+list(mfccF)\n",
    "            label=label+[int(fn.split(\"_\")[0])+1]\n",
    "            _=_+1\n",
    "    data=data+list(blank)\n",
    "    label=label+[0,0,0]\n",
    "    return np.array(data),label"
   ]
  },
  {
   "cell_type": "code",
   "execution_count": 5,
   "metadata": {},
   "outputs": [],
   "source": [
    "def make1(i):\n",
    "    infn=c[i]\n",
    "    (inrate,insig) = wav.read(os.path.join('/home/mayank/Downloads/free-spoken-digit-dataset-master/recordings', infn))\n",
    "    inmfccF = mfcc(insig,inrate)\n",
    "    data=list(inmfccF)\n",
    "    label=[int(infn.split(\"_\")[0])+1]\n",
    "    data=data+list(blank2)\n",
    "    label=label+[0,0,0,0,0]\n",
    "    return np.array(data),label"
   ]
  },
  {
   "cell_type": "code",
   "execution_count": 13,
   "metadata": {},
   "outputs": [],
   "source": [
    "def makedata():\n",
    "    a=[make6()]\n",
    "    for _ in range(43500):\n",
    "        a=a+[make6()]\n",
    "    for _ in range(10000):\n",
    "        a=a+[make3()]\n",
    "    for _ in range(1500):\n",
    "        a=a+[make1(_)]\n",
    "    random.shuffle(a)\n",
    "    return a"
   ]
  },
  {
   "cell_type": "code",
   "execution_count": 14,
   "metadata": {},
   "outputs": [
    {
     "name": "stderr",
     "output_type": "stream",
     "text": [
      "/usr/local/lib/python3.5/dist-packages/scipy/io/wavfile.py:273: WavFileWarning: Chunk (non-data) not understood, skipping it.\n",
      "  WavFileWarning)\n"
     ]
    }
   ],
   "source": [
    "res=makedata()"
   ]
  },
  {
   "cell_type": "code",
   "execution_count": 15,
   "metadata": {},
   "outputs": [],
   "source": [
    "with open('bigDATA.pickle', 'wb') as output:  # Overwrites any existing file.\n",
    "    pickle.dump(res, output)\n"
   ]
  },
  {
   "cell_type": "code",
   "execution_count": 16,
   "metadata": {},
   "outputs": [],
   "source": [
    "m=0\n",
    "for i in res:\n",
    "    if m<i[0].shape[0]:\n",
    "        m=i[0].shape[0]"
   ]
  },
  {
   "cell_type": "code",
   "execution_count": 17,
   "metadata": {},
   "outputs": [
    {
     "data": {
      "text/plain": [
       "589"
      ]
     },
     "execution_count": 17,
     "metadata": {},
     "output_type": "execute_result"
    }
   ],
   "source": [
    "m"
   ]
  },
  {
   "cell_type": "code",
   "execution_count": 62,
   "metadata": {},
   "outputs": [],
   "source": [
    "def padding(A):\n",
    "    l=m-A.shape[0]\n",
    "    blank=np.zeros([l,13])"
   ]
  },
  {
   "cell_type": "code",
   "execution_count": 9,
   "metadata": {},
   "outputs": [
    {
     "ename": "NameError",
     "evalue": "name 'res' is not defined",
     "output_type": "error",
     "traceback": [
      "\u001b[0;31m---------------------------------------------------------------------------\u001b[0m",
      "\u001b[0;31mNameError\u001b[0m                                 Traceback (most recent call last)",
      "\u001b[0;32m<ipython-input-9-cc9956e682ed>\u001b[0m in \u001b[0;36m<module>\u001b[0;34m()\u001b[0m\n\u001b[0;32m----> 1\u001b[0;31m \u001b[0mres\u001b[0m\u001b[0;34m[\u001b[0m\u001b[0;36m3\u001b[0m\u001b[0;34m]\u001b[0m\u001b[0;34m[\u001b[0m\u001b[0;36m0\u001b[0m\u001b[0;34m]\u001b[0m\u001b[0;34m\u001b[0m\u001b[0m\n\u001b[0m",
      "\u001b[0;31mNameError\u001b[0m: name 'res' is not defined"
     ]
    }
   ],
   "source": [
    "res[3][0]"
   ]
  },
  {
   "cell_type": "code",
   "execution_count": 59,
   "metadata": {},
   "outputs": [
    {
     "ename": "TypeError",
     "evalue": "'NoneType' object is not iterable",
     "output_type": "error",
     "traceback": [
      "\u001b[0;31m---------------------------------------------------------------------------\u001b[0m",
      "\u001b[0;31mTypeError\u001b[0m                                 Traceback (most recent call last)",
      "\u001b[0;32m<ipython-input-59-6557670d2db1>\u001b[0m in \u001b[0;36m<module>\u001b[0;34m()\u001b[0m\n\u001b[0;32m----> 1\u001b[0;31m \u001b[0mPADres\u001b[0m\u001b[0;34m=\u001b[0m\u001b[0mpadDATA\u001b[0m\u001b[0;34m(\u001b[0m\u001b[0;34m)\u001b[0m\u001b[0;34m\u001b[0m\u001b[0m\n\u001b[0m",
      "\u001b[0;32m<ipython-input-58-5e93e1642aa5>\u001b[0m in \u001b[0;36mpadDATA\u001b[0;34m()\u001b[0m\n\u001b[1;32m      1\u001b[0m \u001b[0;32mdef\u001b[0m \u001b[0mpadDATA\u001b[0m\u001b[0;34m(\u001b[0m\u001b[0;34m)\u001b[0m\u001b[0;34m:\u001b[0m\u001b[0;34m\u001b[0m\u001b[0m\n\u001b[1;32m      2\u001b[0m     \u001b[0;32mfor\u001b[0m \u001b[0mA\u001b[0m\u001b[0;34m,\u001b[0m\u001b[0mB\u001b[0m \u001b[0;32min\u001b[0m \u001b[0mres\u001b[0m\u001b[0;34m:\u001b[0m\u001b[0;34m\u001b[0m\u001b[0m\n\u001b[0;32m----> 3\u001b[0;31m         \u001b[0mA\u001b[0m\u001b[0;34m=\u001b[0m\u001b[0mA\u001b[0m\u001b[0;34m+\u001b[0m\u001b[0mlist\u001b[0m\u001b[0;34m(\u001b[0m\u001b[0mpadding\u001b[0m\u001b[0;34m(\u001b[0m\u001b[0mA\u001b[0m\u001b[0;34m)\u001b[0m\u001b[0;34m)\u001b[0m\u001b[0;34m\u001b[0m\u001b[0m\n\u001b[0m",
      "\u001b[0;31mTypeError\u001b[0m: 'NoneType' object is not iterable"
     ]
    }
   ],
   "source": [
    "PADres=padDATA()"
   ]
  },
  {
   "cell_type": "code",
   "execution_count": 52,
   "metadata": {},
   "outputs": [],
   "source": [
    "A=[y for x,y in res]"
   ]
  },
  {
   "cell_type": "code",
   "execution_count": 5,
   "metadata": {
    "scrolled": false
   },
   "outputs": [],
   "source": [
    "u=[2]\n",
    "v=[1,2,3]"
   ]
  },
  {
   "cell_type": "code",
   "execution_count": 6,
   "metadata": {},
   "outputs": [
    {
     "data": {
      "text/plain": [
       "[2, 1, 2, 3]"
      ]
     },
     "execution_count": 6,
     "metadata": {},
     "output_type": "execute_result"
    }
   ],
   "source": [
    "u+v"
   ]
  },
  {
   "cell_type": "code",
   "execution_count": null,
   "metadata": {},
   "outputs": [],
   "source": []
  }
 ],
 "metadata": {
  "kernelspec": {
   "display_name": "Python 3",
   "language": "python",
   "name": "python3"
  },
  "language_info": {
   "codemirror_mode": {
    "name": "ipython",
    "version": 3
   },
   "file_extension": ".py",
   "mimetype": "text/x-python",
   "name": "python",
   "nbconvert_exporter": "python",
   "pygments_lexer": "ipython3",
   "version": "3.5.2"
  }
 },
 "nbformat": 4,
 "nbformat_minor": 2
}
